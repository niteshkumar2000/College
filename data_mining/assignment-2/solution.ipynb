{
 "metadata": {
  "language_info": {
   "codemirror_mode": {
    "name": "ipython",
    "version": 3
   },
   "file_extension": ".py",
   "mimetype": "text/x-python",
   "name": "python",
   "nbconvert_exporter": "python",
   "pygments_lexer": "ipython3",
   "version": "3.7.3-final"
  },
  "orig_nbformat": 2,
  "kernelspec": {
   "name": "python3",
   "display_name": "Python 3",
   "language": "python"
  }
 },
 "nbformat": 4,
 "nbformat_minor": 2,
 "cells": [
  {
   "source": [
    "# Association Rule Mining\n",
    "## Dataset:  Groceries Dataset\n",
    "## Source: https://www.kaggle.com/heeraldedhia/groceries-dataset"
   ],
   "cell_type": "markdown",
   "metadata": {}
  },
  {
   "source": [
    "## Reading dataset"
   ],
   "cell_type": "markdown",
   "metadata": {}
  },
  {
   "cell_type": "code",
   "execution_count": 57,
   "metadata": {},
   "outputs": [
    {
     "output_type": "execute_result",
     "data": {
      "text/plain": [
       "       Member_number\n",
       "count   38765.000000\n",
       "mean     3003.641868\n",
       "std      1153.611031\n",
       "min      1000.000000\n",
       "25%      2002.000000\n",
       "50%      3005.000000\n",
       "75%      4007.000000\n",
       "max      5000.000000"
      ],
      "text/html": "<div>\n<style scoped>\n    .dataframe tbody tr th:only-of-type {\n        vertical-align: middle;\n    }\n\n    .dataframe tbody tr th {\n        vertical-align: top;\n    }\n\n    .dataframe thead th {\n        text-align: right;\n    }\n</style>\n<table border=\"1\" class=\"dataframe\">\n  <thead>\n    <tr style=\"text-align: right;\">\n      <th></th>\n      <th>Member_number</th>\n    </tr>\n  </thead>\n  <tbody>\n    <tr>\n      <th>count</th>\n      <td>38765.000000</td>\n    </tr>\n    <tr>\n      <th>mean</th>\n      <td>3003.641868</td>\n    </tr>\n    <tr>\n      <th>std</th>\n      <td>1153.611031</td>\n    </tr>\n    <tr>\n      <th>min</th>\n      <td>1000.000000</td>\n    </tr>\n    <tr>\n      <th>25%</th>\n      <td>2002.000000</td>\n    </tr>\n    <tr>\n      <th>50%</th>\n      <td>3005.000000</td>\n    </tr>\n    <tr>\n      <th>75%</th>\n      <td>4007.000000</td>\n    </tr>\n    <tr>\n      <th>max</th>\n      <td>5000.000000</td>\n    </tr>\n  </tbody>\n</table>\n</div>"
     },
     "metadata": {},
     "execution_count": 57
    }
   ],
   "source": [
    "import pandas as pd\n",
    "data = pd.read_csv('Groceries_dataset.csv')\n",
    "data.describe()"
   ]
  },
  {
   "source": [
    "## Preprocessing dataset"
   ],
   "cell_type": "markdown",
   "metadata": {}
  },
  {
   "source": [
    "## Fetching number of unique members"
   ],
   "cell_type": "markdown",
   "metadata": {}
  },
  {
   "cell_type": "code",
   "execution_count": 58,
   "metadata": {},
   "outputs": [
    {
     "output_type": "execute_result",
     "data": {
      "text/plain": [
       "3898"
      ]
     },
     "metadata": {},
     "execution_count": 58
    }
   ],
   "source": [
    "unique_members = data['Member_number'].unique()\n",
    "len(unique_members)"
   ]
  },
  {
   "source": [
    "## Grouping data based on members"
   ],
   "cell_type": "markdown",
   "metadata": {}
  },
  {
   "cell_type": "code",
   "execution_count": 59,
   "metadata": {},
   "outputs": [
    {
     "output_type": "execute_result",
     "data": {
      "text/plain": [
       "       Member_number        Date    itemDescription\n",
       "0               1808  21-07-2015     tropical fruit\n",
       "1               2552  05-01-2015         whole milk\n",
       "2               2300  19-09-2015          pip fruit\n",
       "3               1187  12-12-2015   other vegetables\n",
       "4               3037  01-02-2015         whole milk\n",
       "...              ...         ...                ...\n",
       "38621           2192  21-11-2014  seasonal products\n",
       "38645           4973  28-05-2014         newspapers\n",
       "38684           2936  07-03-2014         newspapers\n",
       "38704           3654  17-06-2014         newspapers\n",
       "38722           3834  18-05-2014        salty snack\n",
       "\n",
       "[18310 rows x 3 columns]"
      ],
      "text/html": "<div>\n<style scoped>\n    .dataframe tbody tr th:only-of-type {\n        vertical-align: middle;\n    }\n\n    .dataframe tbody tr th {\n        vertical-align: top;\n    }\n\n    .dataframe thead th {\n        text-align: right;\n    }\n</style>\n<table border=\"1\" class=\"dataframe\">\n  <thead>\n    <tr style=\"text-align: right;\">\n      <th></th>\n      <th>Member_number</th>\n      <th>Date</th>\n      <th>itemDescription</th>\n    </tr>\n  </thead>\n  <tbody>\n    <tr>\n      <th>0</th>\n      <td>1808</td>\n      <td>21-07-2015</td>\n      <td>tropical fruit</td>\n    </tr>\n    <tr>\n      <th>1</th>\n      <td>2552</td>\n      <td>05-01-2015</td>\n      <td>whole milk</td>\n    </tr>\n    <tr>\n      <th>2</th>\n      <td>2300</td>\n      <td>19-09-2015</td>\n      <td>pip fruit</td>\n    </tr>\n    <tr>\n      <th>3</th>\n      <td>1187</td>\n      <td>12-12-2015</td>\n      <td>other vegetables</td>\n    </tr>\n    <tr>\n      <th>4</th>\n      <td>3037</td>\n      <td>01-02-2015</td>\n      <td>whole milk</td>\n    </tr>\n    <tr>\n      <th>...</th>\n      <td>...</td>\n      <td>...</td>\n      <td>...</td>\n    </tr>\n    <tr>\n      <th>38621</th>\n      <td>2192</td>\n      <td>21-11-2014</td>\n      <td>seasonal products</td>\n    </tr>\n    <tr>\n      <th>38645</th>\n      <td>4973</td>\n      <td>28-05-2014</td>\n      <td>newspapers</td>\n    </tr>\n    <tr>\n      <th>38684</th>\n      <td>2936</td>\n      <td>07-03-2014</td>\n      <td>newspapers</td>\n    </tr>\n    <tr>\n      <th>38704</th>\n      <td>3654</td>\n      <td>17-06-2014</td>\n      <td>newspapers</td>\n    </tr>\n    <tr>\n      <th>38722</th>\n      <td>3834</td>\n      <td>18-05-2014</td>\n      <td>salty snack</td>\n    </tr>\n  </tbody>\n</table>\n<p>18310 rows × 3 columns</p>\n</div>"
     },
     "metadata": {},
     "execution_count": 59
    }
   ],
   "source": [
    "grouped_data = data.groupby(data['Member_number'])\n",
    "grouped_data.head(5)"
   ]
  },
  {
   "source": [
    "## Preparing transactions for every member"
   ],
   "cell_type": "markdown",
   "metadata": {}
  },
  {
   "cell_type": "code",
   "execution_count": 60,
   "metadata": {},
   "outputs": [
    {
     "output_type": "execute_result",
     "data": {
      "text/plain": [
       "['whole milk',\n",
       " 'butter',\n",
       " 'female sanitary products',\n",
       " 'pot plants',\n",
       " 'other vegetables',\n",
       " 'tropical fruit',\n",
       " 'root vegetables',\n",
       " 'whole milk',\n",
       " 'shopping bags',\n",
       " 'chocolate',\n",
       " 'chocolate',\n",
       " 'coffee',\n",
       " 'hygiene articles']"
      ]
     },
     "metadata": {},
     "execution_count": 60
    }
   ],
   "source": [
    "transactions_duplicates = [list(grouped_data.get_group(unique_member)['itemDescription']) for unique_member in unique_members]\n",
    "transactions_duplicates[1]"
   ]
  },
  {
   "source": [
    "## Removing duplicaties from each transactions"
   ],
   "cell_type": "markdown",
   "metadata": {}
  },
  {
   "cell_type": "code",
   "execution_count": 63,
   "metadata": {},
   "outputs": [
    {
     "output_type": "execute_result",
     "data": {
      "text/plain": [
       "['whole milk',\n",
       " 'butter',\n",
       " 'female sanitary products',\n",
       " 'pot plants',\n",
       " 'other vegetables',\n",
       " 'tropical fruit',\n",
       " 'root vegetables',\n",
       " 'shopping bags',\n",
       " 'chocolate',\n",
       " 'coffee',\n",
       " 'hygiene articles']"
      ]
     },
     "metadata": {},
     "execution_count": 63
    }
   ],
   "source": [
    "transactions = []\n",
    "for transaction in transactions_duplicates:\n",
    "    temp_list = []\n",
    "    [temp_list.append(item) for item in transaction if item not in temp_list]\n",
    "    transactions.append(temp_list)\n",
    "transactions[1]"
   ]
  },
  {
   "source": [
    "# Association Rule Mining"
   ],
   "cell_type": "markdown",
   "metadata": {}
  },
  {
   "source": [
    "## Using apriori algorithm for getting association rules"
   ],
   "cell_type": "markdown",
   "metadata": {}
  },
  {
   "cell_type": "code",
   "execution_count": 80,
   "metadata": {},
   "outputs": [
    {
     "output_type": "stream",
     "name": "stdout",
     "text": [
      "Rule: bottled water -> whole milk\nSupport: 0.11236531554643407\nConfidence: 0.11236531554643407\nLift: 1.0\n--------------------------------------------------\nRule: other vegetables -> rolls/buns\nSupport: 0.14674191893278604\nConfidence: 0.14674191893278604\nLift: 1.0\n--------------------------------------------------\nRule: other vegetables -> soda\nSupport: 0.1241662390969728\nConfidence: 0.1241662390969728\nLift: 1.0\n--------------------------------------------------\nRule: other vegetables -> whole milk\nSupport: 0.1913801949717804\nConfidence: 0.1913801949717804\nLift: 1.0\n--------------------------------------------------\nRule: other vegetables -> yogurt\nSupport: 0.12031811185223192\nConfidence: 0.12031811185223192\nLift: 1.0\n--------------------------------------------------\nRule: soda -> rolls/buns\nSupport: 0.11980502821959979\nConfidence: 0.11980502821959979\nLift: 1.0\n--------------------------------------------------\nRule: whole milk -> rolls/buns\nSupport: 0.17855310415597742\nConfidence: 0.17855310415597742\nLift: 1.0\n--------------------------------------------------\nRule: yogurt -> rolls/buns\nSupport: 0.11133914828116984\nConfidence: 0.11133914828116984\nLift: 1.0\n--------------------------------------------------\nRule: root vegetables -> whole milk\nSupport: 0.11313494099538225\nConfidence: 0.11313494099538225\nLift: 1.0\n--------------------------------------------------\nRule: sausage -> whole milk\nSupport: 0.10697793740379682\nConfidence: 0.10697793740379682\nLift: 1.0\n--------------------------------------------------\nRule: soda -> whole milk\nSupport: 0.15110312981015905\nConfidence: 0.15110312981015905\nLift: 1.0\n--------------------------------------------------\nRule: tropical fruit -> whole milk\nSupport: 0.11646998460749101\nConfidence: 0.11646998460749101\nLift: 1.0\n--------------------------------------------------\nRule: whole milk -> yogurt\nSupport: 0.15059004617752694\nConfidence: 0.15059004617752694\nLift: 1.0\n--------------------------------------------------\n"
     ]
    }
   ],
   "source": [
    "from apyori import apriori\n",
    "association_rules = list(apriori(transactions))\n",
    "for rule in association_rules:\n",
    "    if len(list(rule[0])) > 1:\n",
    "        print(f'Rule: {list(rule[0])[0]} -> {list(rule[0])[1]}')\n",
    "        print(f'Support: {str(rule[1])}')\n",
    "        print(f'Confidence: {str(rule[2][0][2])}')\n",
    "        print(f'Lift: {str(rule[2][0][3])}')\n",
    "        print('--------------------------------------------------')"
   ]
  }
 ]
}