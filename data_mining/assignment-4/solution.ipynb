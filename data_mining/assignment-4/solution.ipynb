{
 "metadata": {
  "language_info": {
   "codemirror_mode": {
    "name": "ipython",
    "version": 3
   },
   "file_extension": ".py",
   "mimetype": "text/x-python",
   "name": "python",
   "nbconvert_exporter": "python",
   "pygments_lexer": "ipython3",
   "version": "3.7.3-final"
  },
  "orig_nbformat": 2,
  "kernelspec": {
   "name": "python3",
   "display_name": "Python 3.7.3 64-bit",
   "metadata": {
    "interpreter": {
     "hash": "38740d3277777e2cd7c6c2cc9d8addf5118fdf3f82b1b39231fd12aeac8aee8b"
    }
   }
  }
 },
 "nbformat": 4,
 "nbformat_minor": 2,
 "cells": [
  {
   "source": [
    "# Data Imputation with Titanic Dataset"
   ],
   "cell_type": "markdown",
   "metadata": {}
  },
  {
   "source": [
    "Dataset link - https://www.kaggle.com/c/titanic-dataset/data"
   ],
   "cell_type": "markdown",
   "metadata": {}
  },
  {
   "source": [
    "## Reading Input Data"
   ],
   "cell_type": "markdown",
   "metadata": {}
  },
  {
   "cell_type": "code",
   "execution_count": 3,
   "metadata": {},
   "outputs": [
    {
     "output_type": "execute_result",
     "data": {
      "text/plain": [
       "   PassengerId  Survived  Pclass  ...     Fare Cabin  Embarked\n",
       "0            1         0       3  ...   7.2500   NaN         S\n",
       "1            2         1       1  ...  71.2833   C85         C\n",
       "2            3         1       3  ...   7.9250   NaN         S\n",
       "3            4         1       1  ...  53.1000  C123         S\n",
       "4            5         0       3  ...   8.0500   NaN         S\n",
       "\n",
       "[5 rows x 12 columns]"
      ],
      "text/html": "<div>\n<style scoped>\n    .dataframe tbody tr th:only-of-type {\n        vertical-align: middle;\n    }\n\n    .dataframe tbody tr th {\n        vertical-align: top;\n    }\n\n    .dataframe thead th {\n        text-align: right;\n    }\n</style>\n<table border=\"1\" class=\"dataframe\">\n  <thead>\n    <tr style=\"text-align: right;\">\n      <th></th>\n      <th>PassengerId</th>\n      <th>Survived</th>\n      <th>Pclass</th>\n      <th>Name</th>\n      <th>Sex</th>\n      <th>Age</th>\n      <th>SibSp</th>\n      <th>Parch</th>\n      <th>Ticket</th>\n      <th>Fare</th>\n      <th>Cabin</th>\n      <th>Embarked</th>\n    </tr>\n  </thead>\n  <tbody>\n    <tr>\n      <th>0</th>\n      <td>1</td>\n      <td>0</td>\n      <td>3</td>\n      <td>Braund, Mr. Owen Harris</td>\n      <td>male</td>\n      <td>22.0</td>\n      <td>1</td>\n      <td>0</td>\n      <td>A/5 21171</td>\n      <td>7.2500</td>\n      <td>NaN</td>\n      <td>S</td>\n    </tr>\n    <tr>\n      <th>1</th>\n      <td>2</td>\n      <td>1</td>\n      <td>1</td>\n      <td>Cumings, Mrs. John Bradley (Florence Briggs Th...</td>\n      <td>female</td>\n      <td>38.0</td>\n      <td>1</td>\n      <td>0</td>\n      <td>PC 17599</td>\n      <td>71.2833</td>\n      <td>C85</td>\n      <td>C</td>\n    </tr>\n    <tr>\n      <th>2</th>\n      <td>3</td>\n      <td>1</td>\n      <td>3</td>\n      <td>Heikkinen, Miss. Laina</td>\n      <td>female</td>\n      <td>26.0</td>\n      <td>0</td>\n      <td>0</td>\n      <td>STON/O2. 3101282</td>\n      <td>7.9250</td>\n      <td>NaN</td>\n      <td>S</td>\n    </tr>\n    <tr>\n      <th>3</th>\n      <td>4</td>\n      <td>1</td>\n      <td>1</td>\n      <td>Futrelle, Mrs. Jacques Heath (Lily May Peel)</td>\n      <td>female</td>\n      <td>35.0</td>\n      <td>1</td>\n      <td>0</td>\n      <td>113803</td>\n      <td>53.1000</td>\n      <td>C123</td>\n      <td>S</td>\n    </tr>\n    <tr>\n      <th>4</th>\n      <td>5</td>\n      <td>0</td>\n      <td>3</td>\n      <td>Allen, Mr. William Henry</td>\n      <td>male</td>\n      <td>35.0</td>\n      <td>0</td>\n      <td>0</td>\n      <td>373450</td>\n      <td>8.0500</td>\n      <td>NaN</td>\n      <td>S</td>\n    </tr>\n  </tbody>\n</table>\n</div>"
     },
     "metadata": {},
     "execution_count": 3
    }
   ],
   "source": [
    "import pandas as pd\n",
    "import numpy as np\n",
    "data = pd.read_csv(\"data.csv\")\n",
    "data.head(5)"
   ]
  },
  {
   "source": [
    "# Method #1 (Deleting NULL Values)"
   ],
   "cell_type": "markdown",
   "metadata": {}
  },
  {
   "source": [
    "### Before deleting the rows "
   ],
   "cell_type": "markdown",
   "metadata": {}
  },
  {
   "cell_type": "code",
   "execution_count": 5,
   "metadata": {},
   "outputs": [
    {
     "output_type": "stream",
     "name": "stdout",
     "text": [
      "PassengerId      0\nSurvived         0\nPclass           0\nName             0\nSex              0\nAge            177\nSibSp            0\nParch            0\nTicket           0\nFare             0\nCabin          687\nEmbarked         2\ndtype: int64\n(891, 12)\n"
     ]
    }
   ],
   "source": [
    "print(data.isnull().sum())\n",
    "print(data.shape)"
   ]
  },
  {
   "source": [
    "### After deleting the rows"
   ],
   "cell_type": "markdown",
   "metadata": {}
  },
  {
   "cell_type": "code",
   "execution_count": 6,
   "metadata": {},
   "outputs": [
    {
     "output_type": "stream",
     "name": "stdout",
     "text": [
      "PassengerId    0\nSurvived       0\nPclass         0\nName           0\nSex            0\nAge            0\nSibSp          0\nParch          0\nTicket         0\nFare           0\nCabin          0\nEmbarked       0\ndtype: int64\n(183, 12)\n"
     ]
    }
   ],
   "source": [
    "data.dropna(inplace=True)\n",
    "print(data.isnull().sum())\n",
    "print(data.shape)"
   ]
  },
  {
   "source": [
    "# Method #2 (Impute missing values with mean/median)"
   ],
   "cell_type": "markdown",
   "metadata": {}
  },
  {
   "source": [
    "### Before Imputing the mean/median in the missing values:\n"
   ],
   "cell_type": "markdown",
   "metadata": {}
  },
  {
   "cell_type": "code",
   "execution_count": 7,
   "metadata": {},
   "outputs": [
    {
     "output_type": "stream",
     "name": "stdout",
     "text": [
      "1      38.0\n3      35.0\n6      54.0\n10      4.0\n11     58.0\n21     34.0\n23     28.0\n27     19.0\n52     49.0\n54     65.0\n62     45.0\n66     29.0\n75     25.0\n88     23.0\n92     46.0\n96     71.0\n97     23.0\n102    21.0\n110    47.0\n118    24.0\nName: Age, dtype: float64\nPassengerId    0\nSurvived       0\nPclass         0\nName           0\nSex            0\nAge            0\nSibSp          0\nParch          0\nTicket         0\nFare           0\nCabin          0\nEmbarked       0\ndtype: int64\n(183, 12)\n"
     ]
    }
   ],
   "source": [
    "print(data[\"Age\"][:20])\n",
    "print(data.isnull().sum())\n",
    "print(data.shape)"
   ]
  },
  {
   "source": [
    "### After Imputing the mean in the missing values"
   ],
   "cell_type": "markdown",
   "metadata": {}
  },
  {
   "cell_type": "code",
   "execution_count": 8,
   "metadata": {},
   "outputs": [
    {
     "output_type": "stream",
     "name": "stdout",
     "text": [
      "1      38.0\n3      35.0\n6      54.0\n10      4.0\n11     58.0\n21     34.0\n23     28.0\n27     19.0\n52     49.0\n54     65.0\n62     45.0\n66     29.0\n75     25.0\n88     23.0\n92     46.0\n96     71.0\n97     23.0\n102    21.0\n110    47.0\n118    24.0\nName: Age, dtype: float64\nPassengerId    0\nSurvived       0\nPclass         0\nName           0\nSex            0\nAge            0\nSibSp          0\nParch          0\nTicket         0\nFare           0\nCabin          0\nEmbarked       0\ndtype: int64\n(183, 12)\n"
     ]
    }
   ],
   "source": [
    "data[\"Age\"] = data[\"Age\"].replace(np.NaN, data[\"Age\"].mean())\n",
    "print(data[\"Age\"][:20])\n",
    "print(data.isnull().sum())\n",
    "print(data.shape)"
   ]
  },
  {
   "source": [
    "### After Imputing the median in the missing values:"
   ],
   "cell_type": "markdown",
   "metadata": {}
  },
  {
   "cell_type": "code",
   "execution_count": 11,
   "metadata": {},
   "outputs": [
    {
     "output_type": "stream",
     "name": "stdout",
     "text": [
      "1      38.0\n3      35.0\n6      54.0\n10      4.0\n11     58.0\n21     34.0\n23     28.0\n27     19.0\n52     49.0\n54     65.0\n62     45.0\n66     29.0\n75     25.0\n88     23.0\n92     46.0\n96     71.0\n97     23.0\n102    21.0\n110    47.0\n118    24.0\nName: Age, dtype: float64\nPassengerId    0\nSurvived       0\nPclass         0\nName           0\nSex            0\nAge            0\nSibSp          0\nParch          0\nTicket         0\nFare           0\nCabin          0\nEmbarked       0\ndtype: int64\n(183, 12)\n"
     ]
    }
   ],
   "source": [
    "data[\"Age\"] = data[\"Age\"].replace(np.NaN, data[\"Age\"].median())\n",
    "print(data[\"Age\"][:20])\n",
    "print(data.isnull().sum())\n",
    "print(data.shape)"
   ]
  },
  {
   "source": [
    "# Method #3 (Missing values for categorical values)"
   ],
   "cell_type": "markdown",
   "metadata": {}
  },
  {
   "cell_type": "code",
   "execution_count": 14,
   "metadata": {},
   "outputs": [
    {
     "output_type": "stream",
     "name": "stdout",
     "text": [
      "1      38.0\n3      35.0\n6      54.0\n10      4.0\n11     58.0\n21     34.0\n23     28.0\n27     19.0\n52     49.0\n54     65.0\n62     45.0\n66     29.0\n75     25.0\n88     23.0\n92     46.0\n96     71.0\n97     23.0\n102    21.0\n110    47.0\n118    24.0\nName: Age, dtype: float64\n1      C85\n3     C123\n6      E46\n10      G6\n11    C103\nName: Cabin, dtype: object\n1      C85\n3     C123\n6      E46\n10      G6\n11    C103\nName: Cabin, dtype: object\nPassengerId    0\nSurvived       0\nPclass         0\nName           0\nSex            0\nAge            0\nSibSp          0\nParch          0\nTicket         0\nFare           0\nCabin          0\nEmbarked       0\ndtype: int64\n(183, 12)\n"
     ]
    }
   ],
   "source": [
    "data[\"Age\"] = data[\"Age\"].fillna(data[\"Age\"]. value_counts(). index[0])\n",
    "print(data[\"Age\"][:20])\n",
    "print(data[\"Cabin\"][:5])\n",
    "data[\"Cabin\"] = data[\"Cabin\"].fillna(data[\"Cabin\"]. value_counts(). index[0])\n",
    "print(data[\"Cabin\"][:5])\n",
    "print(data.isnull().sum())\n",
    "print(data.shape)"
   ]
  },
  {
   "source": [
    "# Method #4 (Substituting with random Random values)"
   ],
   "cell_type": "markdown",
   "metadata": {}
  },
  {
   "cell_type": "code",
   "execution_count": 17,
   "metadata": {},
   "outputs": [
    {
     "output_type": "stream",
     "name": "stdout",
     "text": [
      "1      C85\n3     C123\n6      E46\n10      G6\n11    C103\nName: Cabin, dtype: object\nPassengerId    0\nSurvived       0\nPclass         0\nName           0\nSex            0\nAge            0\nSibSp          0\nParch          0\nTicket         0\nFare           0\nCabin          0\nEmbarked       0\ndtype: int64\n(183, 12)\n"
     ]
    }
   ],
   "source": [
    "import random\n",
    "val =  list(data[\"Cabin\"])\n",
    "random_value = random.choice(val)\n",
    "while 1:\n",
    "    \t\tif str(random_value) == \"nan\":\n",
    "        \t\t\trandom_value = random.choice(val)\n",
    "    \t\telse:\n",
    "        \t\t\tbreak\n",
    "data[\"Cabin\"] = data[\"Cabin\"].replace(np.NaN,random_value)\n",
    "print(data[\"Cabin\"][:5])\n",
    "print(data.isnull().sum())\n",
    "print(data.shape)"
   ]
  }
 ]
}